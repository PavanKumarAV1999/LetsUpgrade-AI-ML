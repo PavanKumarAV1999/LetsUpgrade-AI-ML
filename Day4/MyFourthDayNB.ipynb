{
 "cells": [
  {
   "cell_type": "markdown",
   "metadata": {},
   "source": [
    "# Question 1"
   ]
  },
  {
   "cell_type": "code",
   "execution_count": 1,
   "metadata": {},
   "outputs": [
    {
     "name": "stdout",
     "output_type": "stream",
     "text": [
      "enter 1st complex number5+2j\n",
      "enter 2nd complex number2+3j\n",
      "Addition of complex number is (7+5j)\n",
      "Substraction of complex number is (3-1j)\n",
      "Multiplication of complex number is (4+19j)\n",
      "Division of complex number is (1.2307692307692308-0.8461538461538463j)\n",
      "Modulas and floor division unable to find\n"
     ]
    }
   ],
   "source": [
    "a = complex(input(\"enter 1st complex number\"))\n",
    "b = complex(input(\"enter 2nd complex number\"))\n",
    "add = a+b\n",
    "sub = a-b\n",
    "mul = a*b\n",
    "div = a/b\n",
    "print(\"Addition of complex number is\",add)\n",
    "print(\"Substraction of complex number is\",sub)\n",
    "print(\"Multiplication of complex number is\",mul)\n",
    "print(\"Division of complex number is\",div)\n",
    "print(\"Modulas and floor division unable to find\")"
   ]
  },
  {
   "cell_type": "markdown",
   "metadata": {},
   "source": [
    "# Question 2"
   ]
  },
  {
   "cell_type": "markdown",
   "metadata": {},
   "source": [
    "__Range()__ is a fuction that is used in looping statement,mainly in __For loop__ to give how many times the statements inside the loop want to be executed.By using this range function initialization of variable not required.we can select the number of iteration by giving number inside the range function\n",
    "* range(n)\n",
    "* Eg:range(5)\n",
    "by doing this the loop execute 5 times(0,1,2,3,4) 0 to n-1\n",
    "simple example using range\n",
    "\n",
    "* _for i in range(5):_                                                                                                         \n",
    "    _print(i)_\n",
    "\n",
    ">__O/P:__\n",
    "0\n",
    "1\n",
    "2\n",
    "3\n",
    "4\n",
    "\n",
    "* It support 3 number parameters __range(start,stop,stepsize)__\n",
    "* start is for starting range\n",
    "* stop is for stopping range\n",
    "* stepsize is like updation.\n"
   ]
  },
  {
   "cell_type": "code",
   "execution_count": 11,
   "metadata": {},
   "outputs": [
    {
     "name": "stdout",
     "output_type": "stream",
     "text": [
      "odd number from 1 to 29 \n",
      "1\n",
      "3\n",
      "5\n",
      "7\n",
      "9\n",
      "11\n",
      "13\n",
      "15\n",
      "17\n",
      "19\n",
      "21\n",
      "23\n",
      "25\n",
      "27\n",
      "29\n"
     ]
    }
   ],
   "source": [
    "print(\"odd number from 1 to 29 \")\n",
    "for i in range(1,30,2):\n",
    "    print(i)"
   ]
  },
  {
   "cell_type": "markdown",
   "metadata": {},
   "source": [
    "# Question 3"
   ]
  },
  {
   "cell_type": "code",
   "execution_count": 29,
   "metadata": {},
   "outputs": [
    {
     "name": "stdout",
     "output_type": "stream",
     "text": [
      "enter a number56\n",
      "enter a number25\n",
      "multiplication of these numbers 1400\n"
     ]
    }
   ],
   "source": [
    "a=int(input(\"enter a number\"))\n",
    "b=int(input(\"enter a number\"))\n",
    "sub= a-b\n",
    "if (sub>25):\n",
    "    print(\"multiplication of these numbers\",a*b)\n",
    "else:\n",
    "    print(\"Division of these numbers\",a/b)"
   ]
  },
  {
   "cell_type": "markdown",
   "metadata": {},
   "source": [
    "# Question 4"
   ]
  },
  {
   "cell_type": "code",
   "execution_count": 27,
   "metadata": {},
   "outputs": [
    {
     "name": "stdout",
     "output_type": "stream",
     "text": [
      "Result is\n",
      "98\n",
      "142\n",
      "322\n",
      "398\n",
      "898\n",
      "574\n",
      "1442\n",
      "3598\n",
      "1762\n"
     ]
    }
   ],
   "source": [
    "no=[10,12,18,20,30,23,24,38,60,42]\n",
    "print(\"Result is\")\n",
    "for i in no:\n",
    "    if (i%2==0):\n",
    "        res=(i**2)-2\n",
    "        print(res)"
   ]
  },
  {
   "cell_type": "markdown",
   "metadata": {},
   "source": [
    "# Question 5"
   ]
  },
  {
   "cell_type": "code",
   "execution_count": 26,
   "metadata": {},
   "outputs": [
    {
     "name": "stdout",
     "output_type": "stream",
     "text": [
      "97\n",
      "60\n",
      "67\n",
      "45\n",
      "23\n",
      "90\n",
      "89\n",
      "54\n",
      "34\n"
     ]
    }
   ],
   "source": [
    "l=[10,97,60,67,45,23,90,89,54,34]\n",
    "for i in l:\n",
    "    n=i/2\n",
    "    if(n>7):\n",
    "        print(i)"
   ]
  },
  {
   "cell_type": "code",
   "execution_count": null,
   "metadata": {},
   "outputs": [],
   "source": []
  }
 ],
 "metadata": {
  "kernelspec": {
   "display_name": "Python 3",
   "language": "python",
   "name": "python3"
  },
  "language_info": {
   "codemirror_mode": {
    "name": "ipython",
    "version": 3
   },
   "file_extension": ".py",
   "mimetype": "text/x-python",
   "name": "python",
   "nbconvert_exporter": "python",
   "pygments_lexer": "ipython3",
   "version": "3.7.6"
  }
 },
 "nbformat": 4,
 "nbformat_minor": 4
}
