{
 "cells": [
  {
   "cell_type": "markdown",
   "metadata": {},
   "source": [
    "# Question 1\n",
    "                \n",
    "            "
   ]
  },
  {
   "cell_type": "code",
   "execution_count": 18,
   "metadata": {},
   "outputs": [
    {
     "name": "stdout",
     "output_type": "stream",
     "text": [
      "2\n",
      "3\n",
      "5\n",
      "7\n",
      "11\n",
      "13\n",
      "17\n",
      "19\n"
     ]
    }
   ],
   "source": [
    "for num in range(20):\n",
    "    if(num>1):\n",
    "        for i in range(2,num):\n",
    "            if(num%i==0):\n",
    "                break               \n",
    "        else:\n",
    "                print(num)\n",
    "                \n",
    "            "
   ]
  },
  {
   "cell_type": "markdown",
   "metadata": {},
   "source": [
    "# Question 2"
   ]
  },
  {
   "cell_type": "code",
   "execution_count": 47,
   "metadata": {},
   "outputs": [
    {
     "name": "stdout",
     "output_type": "stream",
     "text": [
      "PAVANkUMAR av\n",
      "pavankumar av\n",
      "PAVANKUMAR AV\n",
      "False\n",
      "Pavankumar av\n",
      "povonKumor AV\n",
      "pavanKumar AV\n",
      "True\n",
      "False\n",
      "pavanKumar AV\n",
      "False\n",
      "False\n",
      "False\n",
      "False\n",
      "13\n",
      "1\n",
      "welcomepavanKumar AV\n"
     ]
    }
   ],
   "source": [
    "s1=\"pavanKumar AV\"\n",
    "s2=\"welcome\"\n",
    "print(s1.swapcase())\n",
    "print(s1.lower())\n",
    "print(s1.upper())\n",
    "print(s1.isalpha())\n",
    "print(s1.capitalize())\n",
    "print(s1.replace('a','o'))\n",
    "print(s1.zfill(2))\n",
    "print(s2.islower())\n",
    "print(s2.isupper())\n",
    "print(s1.expandtabs(2))\n",
    "print(s1.isalnum())\n",
    "print(s1.isdigit())\n",
    "print(s1.isspace())\n",
    "print(s1.istitle())\n",
    "print(len(s1))\n",
    "print(s1.find('a'))\n",
    "print(s2+s1)"
   ]
  },
  {
   "cell_type": "markdown",
   "metadata": {},
   "source": [
    "# Question 3"
   ]
  },
  {
   "cell_type": "code",
   "execution_count": 125,
   "metadata": {},
   "outputs": [
    {
     "name": "stdout",
     "output_type": "stream",
     "text": [
      "enter word malayalam\n",
      " Hurraiii it's a pal\n"
     ]
    }
   ],
   "source": [
    "def ispalindrome(s):\n",
    "    return s==s[::-1]\n",
    "s=str(input(\"enter word \"))\n",
    "ans= ispalindrome(s)\n",
    "if ans:\n",
    "    print(\" Hurraiii it's a pal\")\n",
    "else:\n",
    "    print(\"none this\")\n",
    "\n"
   ]
  },
  {
   "cell_type": "markdown",
   "metadata": {},
   "source": [
    "# Question 4"
   ]
  },
  {
   "cell_type": "code",
   "execution_count": 124,
   "metadata": {},
   "outputs": [
    {
     "name": "stdout",
     "output_type": "stream",
     "text": [
      "pavakumarletsupgrade\n",
      "PAVAKUMARLETSUPGRADE\n",
      "pavakumarletsupgrade\n"
     ]
    }
   ],
   "source": [
    "astr=\"PAVAN@KUMAR&LETS UPGRADE\"\n",
    "def pup():\n",
    "    sp=\"\"\n",
    "    for i in astr:\n",
    "        if i.isalnum():\n",
    "            sp+=i\n",
    "pup()\n",
    "print(sp)\n",
    "res=sp\n",
    "print(res.upper())\n",
    "print(res.lower())\n"
   ]
  },
  {
   "cell_type": "code",
   "execution_count": null,
   "metadata": {},
   "outputs": [],
   "source": []
  }
 ],
 "metadata": {
  "kernelspec": {
   "display_name": "Python 3",
   "language": "python",
   "name": "python3"
  },
  "language_info": {
   "codemirror_mode": {
    "name": "ipython",
    "version": 3
   },
   "file_extension": ".py",
   "mimetype": "text/x-python",
   "name": "python",
   "nbconvert_exporter": "python",
   "pygments_lexer": "ipython3",
   "version": "3.7.6"
  }
 },
 "nbformat": 4,
 "nbformat_minor": 4
}
