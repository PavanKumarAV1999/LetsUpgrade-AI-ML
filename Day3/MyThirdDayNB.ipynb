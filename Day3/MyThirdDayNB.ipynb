{
 "cells": [
  {
   "cell_type": "code",
   "execution_count": 1,
   "metadata": {},
   "outputs": [
    {
     "name": "stdout",
     "output_type": "stream",
     "text": [
      "result is= (-1-2j)\n"
     ]
    }
   ],
   "source": [
    "# question 1\n",
    "# write a program to substract two complex numbers in python\n",
    "# ------------------------------------------------------------\n",
    "a = 3+5j\n",
    "b = 4+7j\n",
    "c = a - b\n",
    "print(\"result is=\",c)\n",
    "# -------------------------------------------------------------"
   ]
  },
  {
   "cell_type": "code",
   "execution_count": 2,
   "metadata": {},
   "outputs": [
    {
     "name": "stdout",
     "output_type": "stream",
     "text": [
      "enter a number4\n",
      "fourth root of this number is 1.4142135623730951\n"
     ]
    }
   ],
   "source": [
    "#question 2\n",
    "# write a program to find the the fourth root of a number\n",
    "# ---------------------------------------------------------\n",
    "a = int(input(\"enter a number \"))\n",
    "square = a**(1/4)\n",
    "print(\"fourth root of this number is\",square)\n",
    "# ----------------------------------------------------------"
   ]
  },
  {
   "cell_type": "code",
   "execution_count": 5,
   "metadata": {},
   "outputs": [
    {
     "name": "stdout",
     "output_type": "stream",
     "text": [
      "before swapping a = 3 b = 4\n",
      "after swapping a = 4 b = 3\n"
     ]
    }
   ],
   "source": [
    "# question 3\n",
    "# write a program to swap 2 numbers in python with the help of a temporary variable\n",
    "#----------------------------------------------------------------------------------\n",
    "a=3\n",
    "b=4\n",
    "print(\"before swapping a =\",a,\"b =\",b)\n",
    "temp=a\n",
    "a=b\n",
    "b=temp\n",
    "print(\"after swapping a =\",a,\"b =\",b)\n",
    "# -----------------------------------------------------------------------------------"
   ]
  },
  {
   "cell_type": "code",
   "execution_count": 9,
   "metadata": {},
   "outputs": [
    {
     "name": "stdout",
     "output_type": "stream",
     "text": [
      "before swapping s1 = 4 s2 = 5\n",
      "after swapping s1 = 5 s2 = 4\n"
     ]
    }
   ],
   "source": [
    "# question 4\n",
    "# write a programe to swap two numbers in python without using a temporary variable\n",
    "# -----------------------------------------------------------------------------------\n",
    "s1=4\n",
    "s2=5\n",
    "print(\"before swapping s1 =\",s1,\"s2 =\",s2)\n",
    "s1=s1+s2\n",
    "s2=s1-s2\n",
    "s1=s1-s2\n",
    "print(\"after swapping s1 =\",s1,\"s2 =\",s2)\n",
    "# -------------------------------------------------------------------------------------\n"
   ]
  },
  {
   "cell_type": "code",
   "execution_count": 22,
   "metadata": {},
   "outputs": [
    {
     "name": "stdout",
     "output_type": "stream",
     "text": [
      "enter the temparature in fahrenheit\n",
      "32\n",
      "temparature in kalvin is 273.15\n",
      "temparature in celsius is 0.0\n"
     ]
    }
   ],
   "source": [
    "# question 5\n",
    "# write a program to convert fahrenheit to kelvin and celsius both\n",
    "# ------------------------------------------------------------------\n",
    "print(\"enter the temparature in fahrenheit\")\n",
    "f=float(input())\n",
    "kalv=(f-32)*5/9+273.15\n",
    "cel=(f-32)*5/9\n",
    "print(\"temparature in kalvin is\",kalv)\n",
    "print(\"temparature in celsius is\",cel)\n",
    "# -------------------------------------------------------------------"
   ]
  },
  {
   "cell_type": "code",
   "execution_count": 21,
   "metadata": {},
   "outputs": [
    {
     "name": "stdout",
     "output_type": "stream",
     "text": [
      "<class 'int'>\n",
      "<class 'float'>\n",
      "<class 'str'>\n",
      "<class 'list'>\n",
      "<class 'tuple'>\n"
     ]
    }
   ],
   "source": [
    "# question 6\n",
    "# write a programe to demonstrate all the available data types in python. HInt: use type() function\n",
    "# --------------------------------------------------------------------------------------------------\n",
    "print(type(4))\n",
    "print(type(4.676))\n",
    "print(type('pavan'))\n",
    "print(type([12,34,56,87]))\n",
    "print(type((34,67,96,90,45)))\n",
    "# ---------------------------------------------------------------------------------------------------"
   ]
  },
  {
   "cell_type": "markdown",
   "metadata": {},
   "source": [
    "# Question 7\n",
    "create a markdown cell in jupyter and list the steps discussed in the session  by \n",
    "Dr.Darshan Ingle sir to create github profile and upload githubs assignment link\n",
    "\n"
   ]
  },
  {
   "cell_type": "markdown",
   "metadata": {},
   "source": [
    "1. Go to -> Github.com\n",
    "2. Sign up using Gmail\n",
    "3. Click on ___new___ button to create a new repository\n",
    "4. Put repository name as LetsUpgrade AI/ML\n",
    "5. Description as assignment(optional)\n",
    "6. Leave it as a public repository\n",
    "7. Click on the button ___create repositary___\n",
    "8. Then click on ___Upload an exsistitng file___\n",
    "9. Drag and Drop your files\n",
    "10. Click on the button ___commit changes___\n",
    "11. File get uploaded successfully\n",
    "12. Copy the link of your uploaded folder  and paste it to the assignment submission form of LetsUpgrade by giving your registered Email id and Phone number"
   ]
  },
  {
   "cell_type": "code",
   "execution_count": null,
   "metadata": {},
   "outputs": [],
   "source": []
  }
 ],
 "metadata": {
  "kernelspec": {
   "display_name": "Python 3",
   "language": "python",
   "name": "python3"
  },
  "language_info": {
   "codemirror_mode": {
    "name": "ipython",
    "version": 3
   },
   "file_extension": ".py",
   "mimetype": "text/x-python",
   "name": "python",
   "nbconvert_exporter": "python",
   "pygments_lexer": "ipython3",
   "version": "3.7.6"
  }
 },
 "nbformat": 4,
 "nbformat_minor": 4
}
